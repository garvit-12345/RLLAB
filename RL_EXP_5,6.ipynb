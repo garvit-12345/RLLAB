{
  "nbformat": 4,
  "nbformat_minor": 0,
  "metadata": {
    "colab": {
      "provenance": [],
      "include_colab_link": true
    },
    "kernelspec": {
      "name": "python3",
      "display_name": "Python 3"
    },
    "language_info": {
      "name": "python"
    }
  },
  "cells": [
    {
      "cell_type": "markdown",
      "metadata": {
        "id": "view-in-github",
        "colab_type": "text"
      },
      "source": [
        "<a href=\"https://colab.research.google.com/github/garvit-12345/RLLAB/blob/main/RL_EXP_5%2C6.ipynb\" target=\"_parent\"><img src=\"https://colab.research.google.com/assets/colab-badge.svg\" alt=\"Open In Colab\"/></a>"
      ]
    },
    {
      "cell_type": "markdown",
      "source": [
        "  Perform UCB price optimization."
      ],
      "metadata": {
        "id": "M77M1iCiWdiy"
      }
    },
    {
      "cell_type": "code",
      "execution_count": null,
      "metadata": {
        "colab": {
          "base_uri": "https://localhost:8080/"
        },
        "id": "DlS7bSHeWNcx",
        "outputId": "4eb66ece-04ab-4d56-df09-90fe40fe3856"
      },
      "outputs": [
        {
          "output_type": "stream",
          "name": "stdout",
          "text": [
            "Total profit before price optimization: 2900\n",
            "Total profit after price optimization: 2900\n"
          ]
        },
        {
          "output_type": "stream",
          "name": "stderr",
          "text": [
            "<ipython-input-1-4795ed1faf9d>:29: RuntimeWarning: divide by zero encountered in log\n",
            "  product.ucb = product.mean_demand + np.sqrt(2 * np.log(self.get_total_sales()) / product.num_sales)\n",
            "<ipython-input-1-4795ed1faf9d>:29: RuntimeWarning: invalid value encountered in sqrt\n",
            "  product.ucb = product.mean_demand + np.sqrt(2 * np.log(self.get_total_sales()) / product.num_sales)\n"
          ]
        }
      ],
      "source": [
        "import numpy as np\n",
        "\n",
        "class Product:\n",
        "    def __init__(self, brand, demand, price):\n",
        "        self.brand = brand\n",
        "        self.demand = demand\n",
        "        self.price = price\n",
        "\n",
        "        self.mean_demand = 0\n",
        "        self.num_sales = 0\n",
        "        self.ucb = 0\n",
        "\n",
        "    def get_profit(self):\n",
        "        return self.demand * self.price\n",
        "\n",
        "class ECommerceWebsite:\n",
        "    def __init__(self, products):\n",
        "        self.products = products\n",
        "\n",
        "    def get_total_profit(self):\n",
        "        total_profit = 0\n",
        "        for product in self.products:\n",
        "            total_profit += product.get_profit()\n",
        "        return total_profit\n",
        "\n",
        "    def ucb_price_optimization(self):\n",
        "        for product in self.products:\n",
        "            product.ucb = product.mean_demand + np.sqrt(2 * np.log(self.get_total_sales()) / product.num_sales)\n",
        "            product.price = max(product.price, product.ucb)\n",
        "\n",
        "    def get_total_sales(self):\n",
        "        total_sales = 0\n",
        "        for product in self.products:\n",
        "            total_sales += product.num_sales\n",
        "        return total_sales\n",
        "\n",
        "if __name__ == \"__main__\":\n",
        "    products = [\n",
        "        Product(\"Brand A\", 100, 10),\n",
        "        Product(\"Brand B\", 200, 5),\n",
        "        Product(\"Brand C\", 300, 3)\n",
        "    ]\n",
        "\n",
        "\n",
        "    e_commerce_website = ECommerceWebsite(products)\n",
        "    print(\"Total profit before price optimization:\", e_commerce_website.get_total_profit())\n",
        "    e_commerce_website.ucb_price_optimization()\n",
        "    print(\"Total profit after price optimization:\", e_commerce_website.get_total_profit())"
      ]
    },
    {
      "cell_type": "markdown",
      "source": [
        " Perform Thompson Sampling price optimization."
      ],
      "metadata": {
        "id": "qe-5Q84uWsSo"
      }
    },
    {
      "cell_type": "code",
      "source": [
        "import numpy as np\n",
        "\n",
        "class Product:\n",
        "    def __init__(self, brand, demand, price):\n",
        "        self.brand = brand\n",
        "        self.demand = demand\n",
        "        self.price = price\n",
        "\n",
        "        self.mean_demand = 0\n",
        "        self.num_sales = 0\n",
        "        self.ucb = 0\n",
        "\n",
        "    def get_profit(self):\n",
        "        return self.demand * self.price\n",
        "\n",
        "class ThompsonSamplingAgent:\n",
        "    def choose_action(self, products):\n",
        "        sampled_demands = []\n",
        "\n",
        "        for product in products:\n",
        "            sampled_demand = np.random.normal(product.mean_demand, 1)\n",
        "            sampled_demands.append(sampled_demand)\n",
        "        product = max(zip(products, sampled_demands), key=lambda x: x[1])[0]\n",
        "        new_price = product.price + 1\n",
        "        return product, new_price\n",
        "\n",
        "class ECommerceWebsite:\n",
        "    def __init__(self, products):\n",
        "        self.products = products\n",
        "\n",
        "    def get_total_profit(self):\n",
        "        total_profit = 0\n",
        "        for product in self.products:\n",
        "            total_profit += product.get_profit()\n",
        "        return total_profit\n",
        "\n",
        "    def thompson_sampling_price_optimization(self):\n",
        "        agent = ThompsonSamplingAgent()\n",
        "        product, new_price = agent.choose_action(self.products)\n",
        "        product.price = new_price\n",
        "        product.num_sales += 1\n",
        "        product.mean_demand = (product.mean_demand * product.num_sales + product.demand) / (product.num_sales + 1)\n",
        "\n",
        "    def get_total_sales(self):\n",
        "        total_sales = 0\n",
        "        for product in self.products:\n",
        "            total_sales += product.num_sales\n",
        "        return total_sales\n",
        "\n",
        "if __name__ == \"__main__\":\n",
        "    products = [\n",
        "        Product(\"Brand A\", 100, 10),\n",
        "        Product(\"Brand B\", 200, 5),\n",
        "        Product(\"Brand C\", 300, 3)\n",
        "    ]\n",
        "\n",
        "    e_commerce_website = ECommerceWebsite(products)\n",
        "    print(\"Total profit before price optimization:\", e_commerce_website.get_total_profit())\n",
        "    e_commerce_website.thompson_sampling_price_optimization()\n",
        "    print(\"Total profit after price optimization:\", e_commerce_website.get_total_profit())"
      ],
      "metadata": {
        "colab": {
          "base_uri": "https://localhost:8080/"
        },
        "id": "iOsTGQsjWuNa",
        "outputId": "ee81a939-aefe-4f3e-cdb8-6e2011b39911"
      },
      "execution_count": null,
      "outputs": [
        {
          "output_type": "stream",
          "name": "stdout",
          "text": [
            "Total profit before price optimization: 2900\n",
            "Total profit after price optimization: 3200\n"
          ]
        }
      ]
    }
  ]
}
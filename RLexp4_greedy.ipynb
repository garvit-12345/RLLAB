{
  "nbformat": 4,
  "nbformat_minor": 0,
  "metadata": {
    "colab": {
      "provenance": [],
      "include_colab_link": true
    },
    "kernelspec": {
      "name": "python3",
      "display_name": "Python 3"
    },
    "language_info": {
      "name": "python"
    }
  },
  "cells": [
    {
      "cell_type": "markdown",
      "metadata": {
        "id": "view-in-github",
        "colab_type": "text"
      },
      "source": [
        "<a href=\"https://colab.research.google.com/github/garvit-12345/RLLAB/blob/main/RLexp4_greedy.ipynb\" target=\"_parent\"><img src=\"https://colab.research.google.com/assets/colab-badge.svg\" alt=\"Open In Colab\"/></a>"
      ]
    },
    {
      "cell_type": "markdown",
      "source": [
        "Perform optimal greedy price optimization."
      ],
      "metadata": {
        "id": "Hdp590bbURYw"
      }
    },
    {
      "cell_type": "code",
      "source": [
        "class Product:\n",
        "    def __init__(self, name, price, demand):\n",
        "        self.name = name\n",
        "        self.price = price\n",
        "        self.demand = demand\n",
        "\n",
        "    def get_profit(self):\n",
        "        return self.price * self.demand\n",
        "\n",
        "\n",
        "class ECommerceWebsite:\n",
        "    def __init__(self, products):\n",
        "        self.products = products\n",
        "\n",
        "    def get_total_profit(self):\n",
        "        total_profit = 0\n",
        "        for product in self.products:\n",
        "            total_profit += product.get_profit()\n",
        "        return total_profit\n",
        "\n",
        "    def optimal_greedy_price_optimization(self):\n",
        "        model = YourCustomModel()\n",
        "        agent = OptimalGreedyAgent(model)\n",
        "        agent.optimal_greedy_price_optimization(self)\n",
        "\n",
        "\n",
        "class YourCustomModel:\n",
        "    pass\n",
        "\n",
        "\n",
        "class OptimalGreedyAgent:\n",
        "    def __init__(self, model):\n",
        "        self.model = model\n",
        "\n",
        "    def optimal_greedy_price_optimization(self, e_commerce_website):\n",
        "        pass\n",
        "\n",
        "\n",
        "products = [\n",
        "    Product(\"Brand A\", 100, 10),\n",
        "    Product(\"Brand B\", 200, 5),\n",
        "    Product(\"Brand C\", 300, 3),\n",
        "]\n",
        "\n",
        "\n",
        "e_commerce_website = ECommerceWebsite(products)\n",
        "e_commerce_website.optimal_greedy_price_optimization()\n",
        "print(\"Total profit after price optimization:\", e_commerce_website.get_total_profit())\n"
      ],
      "metadata": {
        "colab": {
          "base_uri": "https://localhost:8080/"
        },
        "id": "RJIyKZ72UF-L",
        "outputId": "c0be76b6-f2eb-4897-a593-3aa573ffea20"
      },
      "execution_count": null,
      "outputs": [
        {
          "output_type": "stream",
          "name": "stdout",
          "text": [
            "Total profit after price optimization: 2900\n"
          ]
        }
      ]
    },
    {
      "cell_type": "markdown",
      "source": [
        " Perform greedy price optimization."
      ],
      "metadata": {
        "id": "QVAe1dFoUsVR"
      }
    },
    {
      "cell_type": "code",
      "source": [
        "import numpy as np\n",
        "\n",
        "class Product:\n",
        "    def __init__(self, brand, demand, price):\n",
        "        self.brand = brand\n",
        "        self.demand = demand\n",
        "        self.price = price\n",
        "\n",
        "        self.mean_demand = 0\n",
        "        self.num_sales = 0\n",
        "        self.ucb = 0\n",
        "\n",
        "    def get_profit(self):\n",
        "        return self.demand * self.price\n",
        "\n",
        "class GreedyAgent:\n",
        "    def choose_action(self, products):\n",
        "        product = max(products, key=lambda x: x.get_profit())\n",
        "        new_price = product.price + 1\n",
        "        return product, new_price\n",
        "\n",
        "class ECommerceWebsite:\n",
        "    def __init__(self, products):\n",
        "        self.products = products\n",
        "\n",
        "    def get_total_profit(self):\n",
        "        total_profit = 0\n",
        "        for product in self.products:\n",
        "            total_profit += product.get_profit()\n",
        "        return total_profit\n",
        "\n",
        "    def greedy_price_optimization(self):\n",
        "        agent = GreedyAgent()\n",
        "        product, new_price = agent.choose_action(self.products)\n",
        "        product.price = new_price\n",
        "        product.num_sales += 1\n",
        "        product.mean_demand = (product.mean_demand * product.num_sales + product.demand) / (product.num_sales + 1)\n",
        "\n",
        "    def get_total_sales(self):\n",
        "        total_sales = 0\n",
        "        for product in self.products:\n",
        "            total_sales += product.num_sales\n",
        "        return total_sales\n",
        "\n",
        "if __name__ == \"__main__\":\n",
        "\n",
        "    products = [\n",
        "        Product(\"Brand A\", 100, 10),\n",
        "        Product(\"Brand B\", 200, 5),\n",
        "        Product(\"Brand C\", 300, 3)\n",
        "    ]\n",
        "\n",
        "    e_commerce_website = ECommerceWebsite(products)\n",
        "    print(\"Total profit before price optimization:\", e_commerce_website.get_total_profit())\n",
        "    e_commerce_website.greedy_price_optimization()\n",
        "    print(\"Total profit after price optimization:\", e_commerce_website.get_total_profit())"
      ],
      "metadata": {
        "colab": {
          "base_uri": "https://localhost:8080/"
        },
        "id": "5CZSJy2kUsAs",
        "outputId": "a1dbbf4f-376d-42b7-c556-3f248d9a1223"
      },
      "execution_count": null,
      "outputs": [
        {
          "output_type": "stream",
          "name": "stdout",
          "text": [
            "Total profit before price optimization: 2900\n",
            "Total profit after price optimization: 3000\n"
          ]
        }
      ]
    },
    {
      "cell_type": "markdown",
      "source": [
        "Perform  epsilon-greedy optimization"
      ],
      "metadata": {
        "id": "ePAw348TXr0Y"
      }
    },
    {
      "cell_type": "code",
      "source": [
        "import numpy as np\n",
        "\n",
        "class Product:\n",
        "    def __init__(self, brand, demand, price):\n",
        "        self.brand = brand\n",
        "        self.demand = demand\n",
        "        self.price = price\n",
        "\n",
        "        self.mean_demand = 0\n",
        "        self.num_sales = 0\n",
        "        self.ucb = 0\n",
        "\n",
        "    def get_profit(self):\n",
        "        return self.demand * self.price\n",
        "\n",
        "class EpsilonGreedyAgent:\n",
        "    def __init__(self, epsilon):\n",
        "        self.epsilon = epsilon\n",
        "\n",
        "    def choose_action(self, products):\n",
        "        if np.random.rand() < self.epsilon:\n",
        "            product = np.random.choice(products)\n",
        "        else:\n",
        "            product = max(products, key=lambda x: x.get_profit())\n",
        "        new_price = product.price + 1\n",
        "        return product, new_price\n",
        "\n",
        "class ECommerceWebsite:\n",
        "    def __init__(self, products):\n",
        "        self.products = products\n",
        "\n",
        "    def get_total_profit(self):\n",
        "        total_profit = 0\n",
        "        for product in self.products:\n",
        "            total_profit += product.get_profit()\n",
        "        return total_profit\n",
        "\n",
        "    def epsilon_greedy_price_optimization(self, epsilon):\n",
        "        agent = EpsilonGreedyAgent(epsilon)\n",
        "        product, new_price = agent.choose_action(self.products)\n",
        "        product.price = new_price\n",
        "        product.num_sales += 1\n",
        "        product.mean_demand = (product.mean_demand * product.num_sales + product.demand) / (product.num_sales + 1)\n",
        "\n",
        "    def get_total_sales(self):\n",
        "        total_sales = 0\n",
        "        for product in self.products:\n",
        "            total_sales += product.num_sales\n",
        "        return total_sales\n",
        "\n",
        "if __name__ == \"__main__\":\n",
        "\n",
        "    products = [\n",
        "        Product(\"Brand A\", 100, 10),\n",
        "        Product(\"Brand B\", 200, 5),\n",
        "        Product(\"Brand C\", 300, 3)\n",
        "    ]\n",
        "\n",
        "    e_commerce_website = ECommerceWebsite(products)\n",
        "    print(\"Total profit before price optimization:\", e_commerce_website.get_total_profit())\n",
        "    e_commerce_website.epsilon_greedy_price_optimization(0.1)  # 0.1 is the epsilon value\n",
        "    print(\"Total profit after price optimization:\", e_commerce_website.get_total_profit())\n"
      ],
      "metadata": {
        "colab": {
          "base_uri": "https://localhost:8080/"
        },
        "id": "GBuA4mqMXjyw",
        "outputId": "b9242924-294a-425c-d18c-4aad8f1349fc"
      },
      "execution_count": null,
      "outputs": [
        {
          "output_type": "stream",
          "name": "stdout",
          "text": [
            "Total profit before price optimization: 2900\n",
            "Total profit after price optimization: 3000\n"
          ]
        }
      ]
    }
  ]
}
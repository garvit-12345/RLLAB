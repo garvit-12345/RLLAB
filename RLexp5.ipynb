{
  "nbformat": 4,
  "nbformat_minor": 0,
  "metadata": {
    "colab": {
      "provenance": []
    },
    "kernelspec": {
      "name": "python3",
      "display_name": "Python 3"
    },
    "language_info": {
      "name": "python"
    }
  },
  "cells": [
    {
      "cell_type": "code",
      "execution_count": null,
      "metadata": {
        "colab": {
          "base_uri": "https://localhost:8080/"
        },
        "id": "QoJrmC7FNUa8",
        "outputId": "e27ed1cc-65f0-4b0d-dfea-7bd905aa5546"
      },
      "outputs": [
        {
          "output_type": "execute_result",
          "data": {
            "text/plain": [
              "matrix([[ -1,  -1,  -1,  -1,   0,  -1],\n",
              "        [ -1,  -1,  -1,   0,  -1, 100],\n",
              "        [ -1,  -1,  -1,   0,  -1,  -1],\n",
              "        [ -1,   0,   0,  -1,   0,  -1],\n",
              "        [ -1,   0,   0,  -1,  -1, 100],\n",
              "        [ -1,   0,  -1,  -1,   0, 100]])"
            ]
          },
          "metadata": {},
          "execution_count": 1
        }
      ],
      "source": [
        "\n",
        "import numpy as np\n",
        "#R matrix\n",
        "R = np.matrix([[-1, -1, -1, -1, 0, -1],\n",
        "               [-1, -1, -1 ,0, -1, 100],\n",
        "               [-1, -1, -1, 0, -1, -1],\n",
        "               [-1, 0, 0, -1, 0, -1],\n",
        "               [-1, 0, 0, -1, -1, 100],\n",
        "               [-1, 0, -1, -1, 0, 100]])\n",
        "R\n"
      ]
    },
    {
      "cell_type": "code",
      "source": [
        "Q = np.matrix(np.zeros([6,6]))\n",
        "Q\n"
      ],
      "metadata": {
        "colab": {
          "base_uri": "https://localhost:8080/"
        },
        "id": "oRsyu-iWNge6",
        "outputId": "dd76d818-f9c3-4b83-95cf-5804ef0121aa"
      },
      "execution_count": null,
      "outputs": [
        {
          "output_type": "execute_result",
          "data": {
            "text/plain": [
              "matrix([[0., 0., 0., 0., 0., 0.],\n",
              "        [0., 0., 0., 0., 0., 0.],\n",
              "        [0., 0., 0., 0., 0., 0.],\n",
              "        [0., 0., 0., 0., 0., 0.],\n",
              "        [0., 0., 0., 0., 0., 0.],\n",
              "        [0., 0., 0., 0., 0., 0.]])"
            ]
          },
          "metadata": {},
          "execution_count": 2
        }
      ]
    },
    {
      "cell_type": "code",
      "source": [
        "gamma = 0.8\n",
        "initial_state = 1\n",
        "#this function returns all available actions in the stategiven as an argument\n",
        "def available_actions(state):\n",
        "  current_state_row=R[state,]\n",
        "  av_act = np.where(current_state_row>=0)[1]\n",
        "  return av_act\n",
        "#get available actions in current state\n",
        "available_act  = available_actions(initial_state)\n",
        "available_act\n",
        "\n"
      ],
      "metadata": {
        "colab": {
          "base_uri": "https://localhost:8080/"
        },
        "id": "IR7Q2DerNjhQ",
        "outputId": "dc871dc1-a1c8-47ec-b77b-f90c27cf28a7"
      },
      "execution_count": null,
      "outputs": [
        {
          "output_type": "execute_result",
          "data": {
            "text/plain": [
              "array([3, 5])"
            ]
          },
          "metadata": {},
          "execution_count": 4
        }
      ]
    },
    {
      "cell_type": "code",
      "source": [
        "R"
      ],
      "metadata": {
        "colab": {
          "base_uri": "https://localhost:8080/"
        },
        "id": "oa-Tr9CaN6vG",
        "outputId": "e90d6790-a45c-41b5-b2e8-fe77e0e3913d"
      },
      "execution_count": null,
      "outputs": [
        {
          "output_type": "execute_result",
          "data": {
            "text/plain": [
              "matrix([[ -1,  -1,  -1,  -1,   0,  -1],\n",
              "        [ -1,  -1,  -1,   0,  -1, 100],\n",
              "        [ -1,  -1,  -1,   0,  -1,  -1],\n",
              "        [ -1,   0,   0,  -1,   0,  -1],\n",
              "        [ -1,   0,   0,  -1,  -1, 100],\n",
              "        [ -1,   0,  -1,  -1,   0, 100]])"
            ]
          },
          "metadata": {},
          "execution_count": 5
        }
      ]
    },
    {
      "cell_type": "code",
      "source": [
        "def sample_next_action(available_actions_range):\n",
        "  next_action=int(np.random.choice(available_act,1))\n",
        "  return next_action\n",
        "#sample next action to be performed\n",
        "action=sample_next_action(available_act)\n",
        "action\n"
      ],
      "metadata": {
        "colab": {
          "base_uri": "https://localhost:8080/"
        },
        "id": "F-Rh-y7TN-NE",
        "outputId": "e1fb0afa-4239-4ba7-90bb-72970457f26a"
      },
      "execution_count": null,
      "outputs": [
        {
          "output_type": "execute_result",
          "data": {
            "text/plain": [
              "5"
            ]
          },
          "metadata": {},
          "execution_count": 6
        }
      ]
    },
    {
      "cell_type": "code",
      "source": [
        "def update(current_state, action, game):\n",
        "  max_index = np.where(Q[action,] == np.max(Q[action,]))[1]\n",
        "\n",
        "  if max_index.shape[0]>1:\n",
        "    max_index=int(np.random.choice(max_index,size=1))\n",
        "  else:\n",
        "    max_index=int(max_index)\n",
        "  max_value = Q[action, max_index]\n",
        "\n",
        "  #Q learning formula\n",
        "  Q[current_state,action] = R[current_state,action] + gamma*max_value\n",
        "\n",
        "\n",
        "#update Q matrix\n",
        "update(initial_state, action, gamma)\n",
        "Q\n"
      ],
      "metadata": {
        "colab": {
          "base_uri": "https://localhost:8080/"
        },
        "id": "B6gIIMu5OH7s",
        "outputId": "172e4c54-afd1-48d9-e85c-e15ebc2f32ec"
      },
      "execution_count": null,
      "outputs": [
        {
          "output_type": "execute_result",
          "data": {
            "text/plain": [
              "matrix([[  0.,   0.,   0.,   0.,   0.,   0.],\n",
              "        [  0.,   0.,   0.,   0.,   0., 100.],\n",
              "        [  0.,   0.,   0.,   0.,   0.,   0.],\n",
              "        [  0.,   0.,   0.,   0.,   0.,   0.],\n",
              "        [  0.,   0.,   0.,   0.,   0.,   0.],\n",
              "        [  0.,   0.,   0.,   0.,   0.,   0.]])"
            ]
          },
          "metadata": {},
          "execution_count": 8
        }
      ]
    },
    {
      "cell_type": "code",
      "source": [
        "for i in range(10000):\n",
        "  current_state = np.random.randint(0, int(Q.shape[0]))\n",
        "  available_act = available_actions(current_state)\n",
        "  action = sample_next_action(available_act)\n",
        "  update(current_state, action, gamma)\n",
        "print(\"Trained Q matrix\")\n",
        "print(Q/np.max(Q)*100)\n"
      ],
      "metadata": {
        "colab": {
          "base_uri": "https://localhost:8080/"
        },
        "id": "cypkmGEwONNM",
        "outputId": "ccb776a7-d4e1-4d81-e34a-e3c372448166"
      },
      "execution_count": null,
      "outputs": [
        {
          "output_type": "stream",
          "name": "stdout",
          "text": [
            "Trained Q matrix\n",
            "[[  0.    0.    0.    0.   80.    0. ]\n",
            " [  0.    0.    0.   64.    0.  100. ]\n",
            " [  0.    0.    0.   64.    0.    0. ]\n",
            " [  0.   80.   51.2   0.   80.    0. ]\n",
            " [  0.   80.   51.2   0.    0.  100. ]\n",
            " [  0.   80.    0.    0.   80.  100. ]]\n"
          ]
        }
      ]
    },
    {
      "cell_type": "code",
      "source": [
        "current_state =1\n",
        "steps=[current_state]\n",
        "\n",
        "while current_state != 5:\n",
        "  next_step_index=np.where(Q[current_state,] == np.max(Q[current_state],))[1]\n",
        "  if next_step_index.shape[0]>1:\n",
        "    next_step_index=int(np.random.choice(next_step_index,size=1))\n",
        "  else:\n",
        "    next_step_index=int(next_step_index)\n",
        "\n",
        "  steps.append(next_step_index)\n",
        "  current_state = next_step_index\n",
        "#print selected steps\n",
        "steps\n"
      ],
      "metadata": {
        "colab": {
          "base_uri": "https://localhost:8080/"
        },
        "id": "EhNy2wS7OU5k",
        "outputId": "9bf26169-3ec0-4635-f6ae-950b0e291dc4"
      },
      "execution_count": null,
      "outputs": [
        {
          "output_type": "execute_result",
          "data": {
            "text/plain": [
              "[1, 5]"
            ]
          },
          "metadata": {},
          "execution_count": 10
        }
      ]
    },
    {
      "cell_type": "code",
      "source": [
        "Q"
      ],
      "metadata": {
        "colab": {
          "base_uri": "https://localhost:8080/"
        },
        "id": "UfMKAwowOXxS",
        "outputId": "e4b773ad-4b7c-4ca9-dc88-0136be30c637"
      },
      "execution_count": null,
      "outputs": [
        {
          "output_type": "execute_result",
          "data": {
            "text/plain": [
              "matrix([[  0.,   0.,   0.,   0., 400.,   0.],\n",
              "        [  0.,   0.,   0., 320.,   0., 500.],\n",
              "        [  0.,   0.,   0., 320.,   0.,   0.],\n",
              "        [  0., 400., 256.,   0., 400.,   0.],\n",
              "        [  0., 400., 256.,   0.,   0., 500.],\n",
              "        [  0., 400.,   0.,   0., 400., 500.]])"
            ]
          },
          "metadata": {},
          "execution_count": 11
        }
      ]
    }
  ]
}
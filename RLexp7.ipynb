{
  "nbformat": 4,
  "nbformat_minor": 0,
  "metadata": {
    "colab": {
      "provenance": []
    },
    "kernelspec": {
      "name": "python3",
      "display_name": "Python 3"
    },
    "language_info": {
      "name": "python"
    }
  },
  "cells": [
    {
      "cell_type": "code",
      "execution_count": null,
      "metadata": {
        "colab": {
          "base_uri": "https://localhost:8080/"
        },
        "id": "LyC0wbbHQQL0",
        "outputId": "f94a1c74-70ca-455a-b0fb-12a1ef7d92ee"
      },
      "outputs": [
        {
          "output_type": "stream",
          "name": "stdout",
          "text": [
            "Initial policy [0, 0, 0, 0, 0]\n"
          ]
        }
      ],
      "source": [
        "\n",
        "import numpy as np\n",
        "\n",
        "states = [0,1,2,3,4]\n",
        "actions = [0 ,1]\n",
        "N_STATES = len(states)\n",
        "N_ACTIONS = len(actions)\n",
        "P = np.zeros((N_STATES, N_ACTIONS, N_STATES)) #transition probability\n",
        "R = np.zeros((N_STATES, N_ACTIONS, N_STATES)) #rewards\n",
        "P[0,0,1] = 1.0 #STATE ACTION and Reward\n",
        "P[1,1,2] = 1.0\n",
        "P[2,0,3] = 1.0\n",
        "P[3,1,4] = 1.0\n",
        "P[4,0,4] = 1.0\n",
        "\n",
        "R[0,0,1] = 1\n",
        "R[1,1,2] = 10\n",
        "R[2,0,3] = 100\n",
        "R[3,1,4] = 1000\n",
        "R[4,0,4] = 1.0\n",
        "gamma = 0.75\n",
        "\n",
        "#initialize policy and value arbitrarily\n",
        "\n",
        "policy = [ 0 for s in range(N_STATES)]\n",
        "V = np.zeros(N_STATES)\n",
        "\n",
        "print(\"Initial policy\", policy)\n",
        "\n",
        "\n"
      ]
    },
    {
      "cell_type": "code",
      "source": [
        "is_value_changed = True\n",
        "iterations = 0\n",
        "while is_value_changed:\n",
        "  is_value_changed = False\n",
        "  iterations += 1\n",
        "#run value iteration for each state\n",
        "for s in range (N_STATES):\n",
        "  V[s] = sum([P[s,policy[s], s1] * (R[s,policy[s],s1] + gamma*V[s1]) for s1 in range(N_STATES)])\n",
        "  #print \" Run for state\", s\n",
        "for s in range(N_STATES):\n",
        "  q_best = V[s]\n",
        "  #print \"State\", s, \"q_best\", q_best\n",
        "  for a in range (N_ACTIONS):\n",
        "    q_sa = sum([P[s, a ,s1] * (R[s,a,s1] + gamma *V[s1]) for s1 in range(N_STATES)])\n",
        "for s in range(N_STATES):\n",
        "  q_best = V[s]\n",
        "  #print \"State\", s, \"q_best\", q_best\n",
        "  for a in range(N_ACTIONS):\n",
        "    q_sa = sum([P[s,a,s1] * (R[s,a,s1] + gamma *V[s1]) for s1 in range(N_STATES)])\n",
        "    if q_sa > q_best:\n",
        "      print(\"State\", s, \"q_sa\", q_sa, \"q_best\", q_best)\n",
        "      policy[s] = a\n",
        "      q_best = q_sa\n",
        "      is_value_changed = True\n",
        "\n",
        "print(\"Iterations\", iterations)\n"
      ],
      "metadata": {
        "colab": {
          "base_uri": "https://localhost:8080/"
        },
        "id": "ZX67Lqd3Qxti",
        "outputId": "88f9eafc-b67f-451e-837f-e407d97d8e5c"
      },
      "execution_count": null,
      "outputs": [
        {
          "output_type": "stream",
          "name": "stdout",
          "text": [
            "State 1 q_sa 85.0 q_best 0.0\n",
            "State 3 q_sa 1000.75 q_best 0.0\n",
            "State 4 q_sa 1.75 q_best 1.0\n",
            "Iterations 1\n"
          ]
        }
      ]
    },
    {
      "cell_type": "code",
      "source": [],
      "metadata": {
        "id": "4VEGpqGMQ5Lv"
      },
      "execution_count": null,
      "outputs": []
    },
    {
      "cell_type": "code",
      "source": [
        "print(\"Final Policy\")\n",
        "print(policy)\n",
        "print(V)\n"
      ],
      "metadata": {
        "colab": {
          "base_uri": "https://localhost:8080/"
        },
        "id": "EVH3-zxPQ761",
        "outputId": "a08ad9b1-b42c-47ce-a1fd-0d816fb61ad8"
      },
      "execution_count": null,
      "outputs": [
        {
          "output_type": "stream",
          "name": "stdout",
          "text": [
            "Final Policy\n",
            "[0, 1, 0, 1, 0]\n",
            "[  1.   0. 100.   0.   1.]\n"
          ]
        }
      ]
    }
  ]
}
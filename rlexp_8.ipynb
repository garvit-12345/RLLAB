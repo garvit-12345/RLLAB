{
  "nbformat": 4,
  "nbformat_minor": 0,
  "metadata": {
    "colab": {
      "provenance": []
    },
    "kernelspec": {
      "name": "python3",
      "display_name": "Python 3"
    },
    "language_info": {
      "name": "python"
    }
  },
  "cells": [
    {
      "cell_type": "code",
      "execution_count": 3,
      "metadata": {
        "id": "OvWLMYRYa7M_"
      },
      "outputs": [],
      "source": [
        "import numpy as np\n",
        "# Define the grid world environment\n",
        "grid = np.array([\n",
        "    [0, 0, 0, 1],\n",
        "    [0, 1, 0, -1],\n",
        "    [0, 0, 0, 0],\n",
        "    [1, 0, 1, 0]\n",
        "])\n",
        "\n",
        "# Define possible actions (up, down, left, right)\n",
        "actions = [(0, -1), (0, 1), (-1, 0), (1, 0)]\n",
        "# Define the discount factor\n",
        "gamma = 0.9\n",
        "\n",
        "# Initialize the state-value function\n",
        "state_values = np.zeros(grid.shape)\n",
        "# Initialize the policy (random policy)\n",
        "policy = np.ones((*grid.shape, len(actions))) / len(actions)\n",
        "\n",
        "# Helper function to check if a state is valid\n",
        "def is_valid_state(state):\n",
        "    i, j = state\n",
        "    return 0 <= i < grid.shape[0] and 0 <= j < grid.shape[1]\n",
        "\n",
        "\n",
        "# Helper function to check if a state is terminal\n",
        "def is_terminal_state(state):\n",
        "    return grid[state[0], state[1]] in [-1, 1]\n",
        "\n",
        "\n",
        "# Helper function to take an action in the environment\n",
        "def take_action(state, action):\n",
        "    i, j = state\n",
        "    di, dj = action\n",
        "    new_state = (i + di, j + dj)\n",
        "    return new_state if is_valid_state(new_state) else state\n",
        "\n",
        "# Helper function to calculate the expected value for a state\n",
        "def calculate_expected_value(state, action, state_values):\n",
        "    i, j = state\n",
        "    expected_value = 0\n",
        "    for a in range(len(actions)):\n",
        "        new_state = take_action(state, actions[a])\n",
        "        expected_value += policy[i, j, a] * (grid[new_state[0], new_state[1]] + gamma * state_values[new_state[0], new_state[1]])\n",
        "    return expected_value\n",
        "\n",
        "def policy_iteration(episodes):\n",
        "    for _ in range(episodes):\n",
        "        episode = []\n",
        "        state = (2, 0)\n",
        "\n",
        "        while not is_terminal_state(state):\n",
        "            action = np.random.choice(len(actions), p=policy[state[0], state[1]])\n",
        "            new_state = take_action(state, actions[action])\n",
        "            episode.append((state, action, grid[new_state[0], new_state[1]]))\n",
        "            state = new_state\n",
        "\n",
        "        returns = 0\n",
        "        for t in reversed(range(len(episode))):\n",
        "            state, action, reward = episode[t]\n",
        "            returns = gamma * returns + reward\n",
        "            state_values[state[0], state[1]] += (1 / len(episode)) * (returns - state_values[state[0], state[1]])\n",
        "\n",
        "    return state_values\n",
        "\n",
        "def value_iteration():\n",
        "    theta = 1e-6\n",
        "    while True:\n",
        "        delta = 0\n",
        "        for i in range(grid.shape[0]):\n",
        "            for j in range(grid.shape[1]):\n",
        "                if is_terminal_state((i, j)):\n",
        "                    continue\n",
        "                v = state_values[i, j]\n",
        "                new_state_values = [calculate_expected_value((i, j), a, state_values) for a in range(len(actions))]\n",
        "                state_values[i, j] = max(new_state_values)\n",
        "                delta = max(delta, abs(v - state_values[i, j]))\n",
        "        if delta < theta:\n",
        "            break\n",
        "\n",
        "    return state_values\n",
        "\n"
      ]
    },
    {
      "cell_type": "code",
      "source": [
        "if __name__ == \"__main__\":\n",
        "    print(\"Policy Iteration:\")\n",
        "    monte_carlo_result = policy_iteration(1000)\n",
        "    print(monte_carlo_result)\n",
        "\n",
        "    print(\"\\nValue Iteration:\")\n",
        "    value_iteration_result = value_iteration()\n",
        "    print(value_iteration_result)\n"
      ],
      "metadata": {
        "colab": {
          "base_uri": "https://localhost:8080/"
        },
        "id": "WozthXhmbiQ9",
        "outputId": "178b0b18-82ed-4ae4-9cc5-89b1f284d5fb"
      },
      "execution_count": 4,
      "outputs": [
        {
          "output_type": "stream",
          "name": "stdout",
          "text": [
            "Policy Iteration:\n",
            "[[0.65639178 0.88307755 0.80650206 0.        ]\n",
            " [0.88668829 0.         0.38908785 0.        ]\n",
            " [0.90082    0.79006757 0.6867741  0.46459491]\n",
            " [0.         0.88596878 0.         0.42844117]]\n",
            "\n",
            "Value Iteration:\n",
            "[[ 0.54972415  0.65001732  0.57811278  0.        ]\n",
            " [ 0.6937504   0.          0.23014871  0.        ]\n",
            " [ 0.72874891  0.70527341  0.44477035 -0.06977614]\n",
            " [ 0.          0.84991809  0.          0.42600068]]\n"
          ]
        }
      ]
    }
  ]
}